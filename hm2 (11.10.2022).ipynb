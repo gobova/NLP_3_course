{
  "nbformat": 4,
  "nbformat_minor": 0,
  "metadata": {
    "colab": {
      "provenance": [],
      "collapsed_sections": [],
      "toc_visible": true,
      "include_colab_link": true
    },
    "kernelspec": {
      "name": "python3",
      "display_name": "Python 3"
    },
    "language_info": {
      "name": "python"
    }
  },
  "cells": [
    {
      "cell_type": "markdown",
      "metadata": {
        "id": "view-in-github",
        "colab_type": "text"
      },
      "source": [
        "<a href=\"https://colab.research.google.com/github/gobova/NLP_3_course/blob/main/hm2%20(11.10.2022).ipynb\" target=\"_parent\"><img src=\"https://colab.research.google.com/assets/colab-badge.svg\" alt=\"Open In Colab\"/></a>"
      ]
    },
    {
      "cell_type": "markdown",
      "source": [
        "~~Тексты для составления корпуса были взяты с форумов (из родительских дневников), на которых родители рассказывали, какие слова выдумали их дети. Большинство интересных продуктивных моделей и нестандартных форм было обнаружено именно там, поскольку дети постоянно изобретают новые слова). Дети сочиняют слова, используя продуктивные модели (слова с неизвестным словарю корнем, но образованные с помощью продуктивных аффиксов (*пример: хостиком = хвостиком*), также слова с «неизвестными» корнями, не содержащие продуктивных аффиксов, для которых носители языка могут однозначно определить лемму и часть речи (по стандартным окончаниям русского языка и зная контексты, в которых они употреблены, а также «придуманные» (нет в словаре) слова (пример *пургинки = аналог снежинки*). Таким образом, во всех этих случаях система могла бы спутать с словами других классов и ошибиться в определении части речи.~~\n",
        "\n",
        "\n",
        "Переменная text - корпус из предложений, не связанных между собой. Некоторые из них были придуманы самостоятельно, остальные взяты с образовательных сайтов.  Предложения короткие и простые, потому что пос тегеры, как оказалось, отлично справляются с разметкой слов без омонимии в предложениях любой сложности. А наша задача посмотреть именно на сложные для пос теггинга слова. \n",
        "\n",
        "\n",
        "\n",
        "В каждом предложении содержится слово с омонимией (пример: пила - существительное, пила - глагол). \n",
        "Общее количество слов - 271\n",
        "Количество предложений - 56\n"
      ],
      "metadata": {
        "id": "L_HM5PslHPlL"
      }
    },
    {
      "cell_type": "code",
      "source": [
        "text = '''\n",
        "Прекрасен пушкинский стих. \n",
        "Ветер совсем стих.\n",
        "Лошадь вели к ветеринару. \n",
        "Вели ему выйти.\n",
        "В форточке нет стекла. \n",
        "Вода еще не стекла до конца.\n",
        "Мы видим солнце, море и чаек над водой. \n",
        "Совсем уже не видим месяц за облаками.\n",
        "Ехали шагом. \n",
        "Любуемся чётким шагом курсантов.\n",
        "Летом серый, а зимой белый.\n",
        "Жарким летом, морозной зимой.\n",
        "Меня нет дома. \n",
        "Стена дома.\n",
        "Мой портфель. \n",
        "Мой яблоко.\n",
        "Острая пила. \n",
        "Пила сок.\n",
        "Булатные мечи. \n",
        "Мечи на стол, что есть в печи.\n",
        "Дуло ружья. \n",
        "Спиленные пни. \n",
        "Пни ногой.\n",
        "Девчонка смела. \n",
        "Смела крошки со стола.\n",
        "Ехали полем. \n",
        "Полем сорняки.\n",
        "Простой человек.\n",
        "Простой оборудования.\n",
        "Вдруг на зверя, вот напасть.\n",
        "Осы вздумали напасть.\n",
        "Мишка с тучею осиной.\n",
        "Бился вырванной осиной.\n",
        "Как тут в бешенство не впасть.\n",
        "Когда осы лезут в пасть.\n",
        "Жалили куда попало.\n",
        "Но за это им попало.\n",
        "Дуло пистолета. \n",
        "Пни в лесу. \n",
        "Пни мяч ногой.\n",
        "Эта девчонка оказалась смела. \n",
        "Она смела крошки со стола.\n",
        "Ехали полем. \n",
        "Мы полем сорняки.\n",
        "Простой пример. \n",
        "Простой оборудования.\n",
        "Королевская знать. \n",
        "Знать его в лицо.\n",
        "Голубей было много. \n",
        "Небо было голубей, чем вчера.\n",
        "Дальние дали. \n",
        "Ему дали второй шанс.\n",
        "Три поросенка. \n",
        "Три сильнее пятно.\n",
        "Рой пчел. \n",
        "Не рой яму другому.\n",
        "Это мой дом. \n",
        "Мой фрукты.\n",
        "Тупая пила. \n",
        "Пила морс.\n",
        "Спиленные пни. \n",
        "Пни дверь ногой.\n",
        "Она очень смела. \n",
        "Смела всю грязь с порога.\n",
        "Простой мужчина. \n",
        "Простой дорогого оборудования.\n",
        "'''"
      ],
      "metadata": {
        "id": "ZdPknw8WDjSE"
      },
      "execution_count": null,
      "outputs": []
    },
    {
      "cell_type": "markdown",
      "source": [
        "# Задание 1"
      ],
      "metadata": {
        "id": "98PM_R95tVmS"
      }
    },
    {
      "cell_type": "markdown",
      "source": [
        "Разметка представляет собой массив элементов, где каждый элемент - это кортеж, в котором нулевой элемент - токен (слово или символ), второй элемент - часть речи (pos tag). Пунктуацию я не исключала, также не приводила к начальной форме и не очищала от стоп слов (хотя изначально такая идея была), потому что на маленьком корпусе (около 200 слов) это не играет роли и никак не влияет на результаты пос теггинга. "
      ],
      "metadata": {
        "id": "rz71or3PZrlK"
      }
    },
    {
      "cell_type": "code",
      "source": [
        "for token in doc.tokens:\n",
        "  print(f\"(\\\"{token.text}\\\", \\\"{token.pos}\\\"),\")"
      ],
      "metadata": {
        "colab": {
          "base_uri": "https://localhost:8080/"
        },
        "id": "DG5T9BizKFEt",
        "outputId": "0db3b3b4-5b72-415b-9c32-8d5c5a730316"
      },
      "execution_count": null,
      "outputs": [
        {
          "output_type": "stream",
          "name": "stdout",
          "text": [
            "(\"Прекрасен\", \"ADJ\"),\n",
            "(\"пушкинский\", \"ADJ\"),\n",
            "(\"стих\", \"NOUN\"),\n",
            "(\".\", \"PUNCT\"),\n",
            "(\"Ветер\", \"NOUN\"),\n",
            "(\"совсем\", \"ADV\"),\n",
            "(\"стих\", \"VERB\"),\n",
            "(\".\", \"PUNCT\"),\n",
            "(\"Лошадь\", \"NOUN\"),\n",
            "(\"вели\", \"VERB\"),\n",
            "(\"к\", \"ADP\"),\n",
            "(\"ветеринару\", \"NOUN\"),\n",
            "(\".\", \"PUNCT\"),\n",
            "(\"Вели\", \"VERB\"),\n",
            "(\"ему\", \"PRON\"),\n",
            "(\"выйти\", \"VERB\"),\n",
            "(\".\", \"PUNCT\"),\n",
            "(\"В\", \"ADP\"),\n",
            "(\"форточке\", \"NOUN\"),\n",
            "(\"нет\", \"VERB\"),\n",
            "(\"стекла\", \"NOUN\"),\n",
            "(\".\", \"PUNCT\"),\n",
            "(\"Вода\", \"NOUN\"),\n",
            "(\"еще\", \"ADV\"),\n",
            "(\"не\", \"PART\"),\n",
            "(\"стекла\", \"NOUN\"),\n",
            "(\"до\", \"ADP\"),\n",
            "(\"конца\", \"NOUN\"),\n",
            "(\".\", \"PUNCT\"),\n",
            "(\"Мы\", \"PRON\"),\n",
            "(\"видим\", \"VERB\"),\n",
            "(\"солнце\", \"NOUN\"),\n",
            "(\",\", \"PUNCT\"),\n",
            "(\"море\", \"NOUN\"),\n",
            "(\"и\", \"CCONJ\"),\n",
            "(\"чаек\", \"VERB\"),\n",
            "(\"над\", \"ADP\"),\n",
            "(\"водой\", \"NOUN\"),\n",
            "(\".\", \"PUNCT\"),\n",
            "(\"Совсем\", \"ADV\"),\n",
            "(\"уже\", \"ADV\"),\n",
            "(\"не\", \"PART\"),\n",
            "(\"видим\", \"VERB\"),\n",
            "(\"месяц\", \"NOUN\"),\n",
            "(\"за\", \"ADP\"),\n",
            "(\"облаками\", \"NOUN\"),\n",
            "(\".\", \"PUNCT\"),\n",
            "(\"Ехали\", \"VERB\"),\n",
            "(\"шагом\", \"NOUN\"),\n",
            "(\".\", \"PUNCT\"),\n",
            "(\"Любуемся\", \"ADJ\"),\n",
            "(\"чётким\", \"ADJ\"),\n",
            "(\"шагом\", \"NOUN\"),\n",
            "(\"курсантов\", \"NOUN\"),\n",
            "(\".\", \"PUNCT\"),\n",
            "(\"Летом\", \"NOUN\"),\n",
            "(\"серый\", \"ADJ\"),\n",
            "(\",\", \"PUNCT\"),\n",
            "(\"а\", \"CCONJ\"),\n",
            "(\"зимой\", \"NOUN\"),\n",
            "(\"белый\", \"ADJ\"),\n",
            "(\".\", \"PUNCT\"),\n",
            "(\"Жарким\", \"ADJ\"),\n",
            "(\"летом\", \"NOUN\"),\n",
            "(\",\", \"PUNCT\"),\n",
            "(\"морозной\", \"ADJ\"),\n",
            "(\"зимой\", \"NOUN\"),\n",
            "(\".\", \"PUNCT\"),\n",
            "(\"Меня\", \"PRON\"),\n",
            "(\"нет\", \"VERB\"),\n",
            "(\"дома\", \"ADV\"),\n",
            "(\".\", \"PUNCT\"),\n",
            "(\"Стена\", \"PROPN\"),\n",
            "(\"дома\", \"NOUN\"),\n",
            "(\".\", \"PUNCT\"),\n",
            "(\"Мой\", \"DET\"),\n",
            "(\"портфель\", \"NOUN\"),\n",
            "(\".\", \"PUNCT\"),\n",
            "(\"Мой\", \"DET\"),\n",
            "(\"яблоко\", \"NOUN\"),\n",
            "(\".\", \"PUNCT\"),\n",
            "(\"Острая\", \"ADJ\"),\n",
            "(\"пила\", \"NOUN\"),\n",
            "(\".\", \"PUNCT\"),\n",
            "(\"Пила\", \"X\"),\n",
            "(\"сок\", \"NOUN\"),\n",
            "(\".\", \"PUNCT\"),\n",
            "(\"Булатные\", \"ADJ\"),\n",
            "(\"мечи\", \"NOUN\"),\n",
            "(\".\", \"PUNCT\"),\n",
            "(\"Мечи\", \"NOUN\"),\n",
            "(\"на\", \"ADP\"),\n",
            "(\"стол\", \"NOUN\"),\n",
            "(\",\", \"PUNCT\"),\n",
            "(\"что\", \"PRON\"),\n",
            "(\"есть\", \"VERB\"),\n",
            "(\"в\", \"ADP\"),\n",
            "(\"печи\", \"NOUN\"),\n",
            "(\".\", \"PUNCT\"),\n",
            "(\"Дуло\", \"VERB\"),\n",
            "(\"ружья\", \"NOUN\"),\n",
            "(\".\", \"PUNCT\"),\n",
            "(\"Спиленные\", \"ADJ\"),\n",
            "(\"пни\", \"NOUN\"),\n",
            "(\".\", \"PUNCT\"),\n",
            "(\"Пни\", \"NOUN\"),\n",
            "(\"ногой\", \"NOUN\"),\n",
            "(\".\", \"PUNCT\"),\n",
            "(\"Девчонка\", \"PROPN\"),\n",
            "(\"смела\", \"VERB\"),\n",
            "(\".\", \"PUNCT\"),\n",
            "(\"Смела\", \"VERB\"),\n",
            "(\"крошки\", \"NOUN\"),\n",
            "(\"со\", \"ADP\"),\n",
            "(\"стола\", \"NOUN\"),\n",
            "(\".\", \"PUNCT\"),\n",
            "(\"Ехали\", \"VERB\"),\n",
            "(\"полем\", \"NOUN\"),\n",
            "(\".\", \"PUNCT\"),\n",
            "(\"Полем\", \"ADJ\"),\n",
            "(\"сорняки\", \"VERB\"),\n",
            "(\".\", \"PUNCT\"),\n",
            "(\"Простой\", \"ADJ\"),\n",
            "(\"человек\", \"NOUN\"),\n",
            "(\".\", \"PUNCT\"),\n",
            "(\"Простой\", \"ADJ\"),\n",
            "(\"оборудования\", \"NOUN\"),\n",
            "(\".\", \"PUNCT\"),\n",
            "(\"Вдруг\", \"ADV\"),\n",
            "(\"на\", \"ADP\"),\n",
            "(\"зверя\", \"NOUN\"),\n",
            "(\",\", \"PUNCT\"),\n",
            "(\"вот\", \"PART\"),\n",
            "(\"напасть\", \"VERB\"),\n",
            "(\".\", \"PUNCT\"),\n",
            "(\"Осы\", \"PROPN\"),\n",
            "(\"вздумали\", \"VERB\"),\n",
            "(\"напасть\", \"VERB\"),\n",
            "(\".\", \"PUNCT\"),\n",
            "(\"Мишка\", \"NOUN\"),\n",
            "(\"с\", \"ADP\"),\n",
            "(\"тучею\", \"ADJ\"),\n",
            "(\"осиной\", \"NOUN\"),\n",
            "(\".\", \"PUNCT\"),\n",
            "(\"Бился\", \"VERB\"),\n",
            "(\"вырванной\", \"ADJ\"),\n",
            "(\"осиной\", \"NOUN\"),\n",
            "(\".\", \"PUNCT\"),\n",
            "(\"Как\", \"SCONJ\"),\n",
            "(\"тут\", \"ADV\"),\n",
            "(\"в\", \"ADP\"),\n",
            "(\"бешенство\", \"NOUN\"),\n",
            "(\"не\", \"PART\"),\n",
            "(\"впасть\", \"VERB\"),\n",
            "(\".\", \"PUNCT\"),\n",
            "(\"Когда\", \"SCONJ\"),\n",
            "(\"осы\", \"NOUN\"),\n",
            "(\"лезут\", \"VERB\"),\n",
            "(\"в\", \"ADP\"),\n",
            "(\"пасть\", \"NOUN\"),\n",
            "(\".\", \"PUNCT\"),\n",
            "(\"Жалили\", \"PROPN\"),\n",
            "(\"куда\", \"ADV\"),\n",
            "(\"попало\", \"VERB\"),\n",
            "(\".\", \"PUNCT\"),\n",
            "(\"Но\", \"CCONJ\"),\n",
            "(\"за\", \"ADP\"),\n",
            "(\"это\", \"PRON\"),\n",
            "(\"им\", \"PRON\"),\n",
            "(\"попало\", \"VERB\"),\n",
            "(\".\", \"PUNCT\"),\n",
            "(\"Дуло\", \"NOUN\"),\n",
            "(\"пистолета\", \"NOUN\"),\n",
            "(\".\", \"PUNCT\"),\n",
            "(\"Пни\", \"PROPN\"),\n",
            "(\"в\", \"ADP\"),\n",
            "(\"лесу\", \"NOUN\"),\n",
            "(\".\", \"PUNCT\"),\n",
            "(\"Пни\", \"VERB\"),\n",
            "(\"мяч\", \"NOUN\"),\n",
            "(\"ногой\", \"NOUN\"),\n",
            "(\".\", \"PUNCT\"),\n",
            "(\"Эта\", \"DET\"),\n",
            "(\"девчонка\", \"NOUN\"),\n",
            "(\"оказалась\", \"VERB\"),\n",
            "(\"смела\", \"VERB\"),\n",
            "(\".\", \"PUNCT\"),\n",
            "(\"Она\", \"PRON\"),\n",
            "(\"смела\", \"VERB\"),\n",
            "(\"крошки\", \"NOUN\"),\n",
            "(\"со\", \"ADP\"),\n",
            "(\"стола\", \"NOUN\"),\n",
            "(\".\", \"PUNCT\"),\n",
            "(\"Ехали\", \"VERB\"),\n",
            "(\"полем\", \"NOUN\"),\n",
            "(\".\", \"PUNCT\"),\n",
            "(\"Мы\", \"PRON\"),\n",
            "(\"полем\", \"NOUN\"),\n",
            "(\"сорняки\", \"VERB\"),\n",
            "(\".\", \"PUNCT\"),\n",
            "(\"Простой\", \"ADJ\"),\n",
            "(\"пример\", \"NOUN\"),\n",
            "(\".\", \"PUNCT\"),\n",
            "(\"Простой\", \"ADJ\"),\n",
            "(\"оборудования\", \"NOUN\"),\n",
            "(\".\", \"PUNCT\"),\n",
            "(\"Королевская\", \"ADJ\"),\n",
            "(\"знать\", \"ADJ\"),\n",
            "(\".\", \"PUNCT\"),\n",
            "(\"Знать\", \"VERB\"),\n",
            "(\"его\", \"PRON\"),\n",
            "(\"в\", \"ADP\"),\n",
            "(\"лицо\", \"NOUN\"),\n",
            "(\".\", \"PUNCT\"),\n",
            "(\"Голубей\", \"PROPN\"),\n",
            "(\"было\", \"AUX\"),\n",
            "(\"много\", \"ADV\"),\n",
            "(\".\", \"PUNCT\"),\n",
            "(\"Небо\", \"NOUN\"),\n",
            "(\"было\", \"AUX\"),\n",
            "(\"голубей\", \"NOUN\"),\n",
            "(\",\", \"PUNCT\"),\n",
            "(\"чем\", \"SCONJ\"),\n",
            "(\"вчера\", \"ADV\"),\n",
            "(\".\", \"PUNCT\"),\n",
            "(\"Дальние\", \"ADJ\"),\n",
            "(\"дали\", \"VERB\"),\n",
            "(\".\", \"PUNCT\"),\n",
            "(\"Ему\", \"PRON\"),\n",
            "(\"дали\", \"VERB\"),\n",
            "(\"второй\", \"ADJ\"),\n",
            "(\"шанс\", \"NOUN\"),\n",
            "(\".\", \"PUNCT\"),\n",
            "(\"Три\", \"NUM\"),\n",
            "(\"поросенка\", \"NOUN\"),\n",
            "(\".\", \"PUNCT\"),\n",
            "(\"Три\", \"NUM\"),\n",
            "(\"сильнее\", \"ADJ\"),\n",
            "(\"пятно\", \"NOUN\"),\n",
            "(\".\", \"PUNCT\"),\n",
            "(\"Рой\", \"PROPN\"),\n",
            "(\"пчел\", \"NOUN\"),\n",
            "(\".\", \"PUNCT\"),\n",
            "(\"Не\", \"PART\"),\n",
            "(\"рой\", \"NOUN\"),\n",
            "(\"яму\", \"NOUN\"),\n",
            "(\"другому\", \"ADJ\"),\n",
            "(\".\", \"PUNCT\"),\n",
            "(\"Это\", \"PRON\"),\n",
            "(\"мой\", \"DET\"),\n",
            "(\"дом\", \"NOUN\"),\n",
            "(\".\", \"PUNCT\"),\n",
            "(\"Мой\", \"DET\"),\n",
            "(\"фрукты\", \"NOUN\"),\n",
            "(\".\", \"PUNCT\"),\n",
            "(\"Тупая\", \"ADJ\"),\n",
            "(\"пила\", \"NOUN\"),\n",
            "(\".\", \"PUNCT\"),\n",
            "(\"Пила\", \"PROPN\"),\n",
            "(\"морс\", \"NOUN\"),\n",
            "(\".\", \"PUNCT\"),\n",
            "(\"Спиленные\", \"ADJ\"),\n",
            "(\"пни\", \"NOUN\"),\n",
            "(\".\", \"PUNCT\"),\n",
            "(\"Пни\", \"PROPN\"),\n",
            "(\"дверь\", \"NOUN\"),\n",
            "(\"ногой\", \"NOUN\"),\n",
            "(\".\", \"PUNCT\"),\n",
            "(\"Она\", \"PRON\"),\n",
            "(\"очень\", \"ADV\"),\n",
            "(\"смела\", \"VERB\"),\n",
            "(\".\", \"PUNCT\"),\n",
            "(\"Смела\", \"VERB\"),\n",
            "(\"всю\", \"DET\"),\n",
            "(\"грязь\", \"NOUN\"),\n",
            "(\"с\", \"ADP\"),\n",
            "(\"порога\", \"NOUN\"),\n",
            "(\".\", \"PUNCT\"),\n",
            "(\"Простой\", \"ADJ\"),\n",
            "(\"мужчина\", \"NOUN\"),\n",
            "(\".\", \"PUNCT\"),\n",
            "(\"Простой\", \"NOUN\"),\n",
            "(\"дорогого\", \"ADJ\"),\n",
            "(\"оборудования\", \"NOUN\"),\n",
            "(\".\", \"PUNCT\"),\n"
          ]
        }
      ]
    },
    {
      "cell_type": "markdown",
      "source": [
        "сохраняю ручную разметку (голд стандарт)"
      ],
      "metadata": {
        "id": "Lf8Y2tsJZyS_"
      }
    },
    {
      "cell_type": "code",
      "source": [
        "true_tagged_text = [\n",
        "    \n",
        "(\"Прекрасен\", \"ADJ\"),\n",
        "(\"пушкинский\", \"ADJ\"),\n",
        "(\"стих\", \"NOUN\"),\n",
        "(\".\", \"PUNCT\"),\n",
        "(\"Ветер\", \"NOUN\"),\n",
        "(\"совсем\", \"ADV\"),\n",
        "(\"стих\", \"VERB\"),\n",
        "(\".\", \"PUNCT\"),\n",
        "(\"Лошадь\", \"NOUN\"),\n",
        "(\"вели\", \"VERB\"),\n",
        "(\"к\", \"ADP\"),\n",
        "(\"ветеринару\", \"NOUN\"),\n",
        "(\".\", \"PUNCT\"),\n",
        "(\"Вели\", \"VERB\"),\n",
        "(\"ему\", \"PRON\"),\n",
        "(\"выйти\", \"VERB\"),\n",
        "(\".\", \"PUNCT\"),\n",
        "(\"В\", \"ADP\"),\n",
        "(\"форточке\", \"NOUN\"),\n",
        "(\"нет\", \"-\"),\n",
        "(\"стекла\", \"NOUN\"),\n",
        "(\".\", \"PUNCT\"),\n",
        "(\"Вода\", \"NOUN\"),\n",
        "(\"еще\", \"ADV\"),\n",
        "(\"не\", \"PART\"),\n",
        "(\"стекла\", \"VERB\"),\n",
        "(\"до\", \"ADP\"),\n",
        "(\"конца\", \"NOUN\"),\n",
        "(\".\", \"PUNCT\"),\n",
        "(\"Мы\", \"PRON\"),\n",
        "(\"видим\", \"VERB\"),\n",
        "(\"солнце\", \"NOUN\"),\n",
        "(\",\", \"PUNCT\"),\n",
        "(\"море\", \"NOUN\"),\n",
        "(\"и\", \"CCONJ\"),\n",
        "(\"чаек\", \"NOUN\"),\n",
        "(\"над\", \"ADP\"),\n",
        "(\"водой\", \"NOUN\"),\n",
        "(\".\", \"PUNCT\"),\n",
        "(\"Совсем\", \"ADV\"),\n",
        "(\"уже\", \"ADV\"),\n",
        "(\"не\", \"PART\"),\n",
        "(\"видим\", \"VERB\"),\n",
        "(\"месяц\", \"NOUN\"),\n",
        "(\"за\", \"ADP\"),\n",
        "(\"облаками\", \"NOUN\"),\n",
        "(\".\", \"PUNCT\"),\n",
        "(\"Ехали\", \"VERB\"),\n",
        "(\"шагом\", \"ADV\"),\n",
        "(\".\", \"PUNCT\"),\n",
        "(\"Любуемся\", \"ADJ\"),\n",
        "(\"чётким\", \"ADJ\"),\n",
        "(\"шагом\", \"NOUN\"),\n",
        "(\"курсантов\", \"NOUN\"),\n",
        "(\".\", \"PUNCT\"),\n",
        "(\"Летом\", \"NOUN\"),\n",
        "(\"серый\", \"ADJ\"),\n",
        "(\",\", \"PUNCT\"),\n",
        "(\"а\", \"CCONJ\"),\n",
        "(\"зимой\", \"NOUN\"),\n",
        "(\"белый\", \"ADJ\"),\n",
        "(\".\", \"PUNCT\"),\n",
        "(\"Жарким\", \"ADJ\"),\n",
        "(\"летом\", \"NOUN\"),\n",
        "(\",\", \"PUNCT\"),\n",
        "(\"морозной\", \"ADJ\"),\n",
        "(\"зимой\", \"NOUN\"),\n",
        "(\".\", \"PUNCT\"),\n",
        "(\"Меня\", \"PRON\"),\n",
        "(\"нет\", \"-\"),\n",
        "(\"дома\", \"NOUN\"),\n",
        "(\".\", \"PUNCT\"),\n",
        "(\"Стена\", \"PROPN\"),\n",
        "(\"дома\", \"NOUN\"),\n",
        "(\".\", \"PUNCT\"),\n",
        "(\"Мой\", \"DET\"),\n",
        "(\"портфель\", \"NOUN\"),\n",
        "(\".\", \"PUNCT\"),\n",
        "(\"Мой\", \"VERB\"),\n",
        "(\"яблоко\", \"NOUN\"),\n",
        "(\".\", \"PUNCT\"),\n",
        "(\"Острая\", \"ADJ\"),\n",
        "(\"пила\", \"NOUN\"),\n",
        "(\".\", \"PUNCT\"),\n",
        "(\"Пила\", \"VERB\"),\n",
        "(\"сок\", \"NOUN\"),\n",
        "(\".\", \"PUNCT\"),\n",
        "(\"Булатные\", \"ADJ\"),\n",
        "(\"мечи\", \"NOUN\"),\n",
        "(\".\", \"PUNCT\"),\n",
        "(\"Мечи\", \"VERB\"),\n",
        "(\"на\", \"ADP\"),\n",
        "(\"стол\", \"NOUN\"),\n",
        "(\",\", \"PUNCT\"),\n",
        "(\"что\", \"PRON\"),\n",
        "(\"есть\", \"VERB\"),\n",
        "(\"в\", \"ADP\"),\n",
        "(\"печи\", \"NOUN\"),\n",
        "(\".\", \"PUNCT\"),\n",
        "(\"Дуло\", \"NOUN\"),\n",
        "(\"ружья\", \"NOUN\"),\n",
        "(\".\", \"PUNCT\"),\n",
        "(\"Спиленные\", \"ADJ\"),\n",
        "(\"пни\", \"NOUN\"),\n",
        "(\".\", \"PUNCT\"),\n",
        "(\"Пни\", \"VERB\"),\n",
        "(\"ногой\", \"NOUN\"),\n",
        "(\".\", \"PUNCT\"),\n",
        "(\"Девчонка\", \"PROPN\"),\n",
        "(\"смела\", \"ADJ\"),\n",
        "(\".\", \"PUNCT\"),\n",
        "(\"Смела\", \"VERB\"),\n",
        "(\"крошки\", \"NOUN\"),\n",
        "(\"со\", \"ADP\"),\n",
        "(\"стола\", \"NOUN\"),\n",
        "(\".\", \"PUNCT\"),\n",
        "(\"Ехали\", \"VERB\"),\n",
        "(\"полем\", \"NOUN\"),\n",
        "(\".\", \"PUNCT\"),\n",
        "(\"Полем\", \"VERB\"),\n",
        "(\"сорняки\", \"NOUN\"),\n",
        "(\".\", \"PUNCT\"),\n",
        "(\"Простой\", \"ADJ\"),\n",
        "(\"человек\", \"NOUN\"),\n",
        "(\".\", \"PUNCT\"),\n",
        "(\"Простой\", \"NOUN\"),\n",
        "(\"оборудования\", \"NOUN\"),\n",
        "(\".\", \"PUNCT\"),\n",
        "(\"Вдруг\", \"ADV\"),\n",
        "(\"на\", \"ADP\"),\n",
        "(\"зверя\", \"NOUN\"),\n",
        "(\",\", \"PUNCT\"),\n",
        "(\"вот\", \"PART\"),\n",
        "(\"напасть\", \"NOUN\"),\n",
        "(\".\", \"PUNCT\"),\n",
        "(\"Осы\", \"NOUN\"),\n",
        "(\"вздумали\", \"VERB\"),\n",
        "(\"напасть\", \"VERB\"),\n",
        "(\".\", \"PUNCT\"),\n",
        "(\"Мишка\", \"NOUN\"),\n",
        "(\"с\", \"ADP\"),\n",
        "(\"тучею\", \"NOUN\"),\n",
        "(\"осиной\", \"ADJ\"),\n",
        "(\".\", \"PUNCT\"),\n",
        "(\"Бился\", \"VERB\"),\n",
        "(\"вырванной\", \"ADJ\"),\n",
        "(\"осиной\", \"NOUN\"),\n",
        "(\".\", \"PUNCT\"),\n",
        "(\"Как\", \"SCONJ\"),\n",
        "(\"тут\", \"ADV\"),\n",
        "(\"в\", \"ADP\"),\n",
        "(\"бешенство\", \"NOUN\"),\n",
        "(\"не\", \"PART\"),\n",
        "(\"впасть\", \"VERB\"),\n",
        "(\".\", \"PUNCT\"),\n",
        "(\"Когда\", \"SCONJ\"),\n",
        "(\"осы\", \"NOUN\"),\n",
        "(\"лезут\", \"VERB\"),\n",
        "(\"в\", \"ADP\"),\n",
        "(\"пасть\", \"NOUN\"),\n",
        "(\".\", \"PUNCT\"),\n",
        "(\"Жалили\", \"PROPN\"),\n",
        "(\"куда\", \"ADV\"),\n",
        "(\"попало\", \"-\"),\n",
        "(\".\", \"PUNCT\"),\n",
        "(\"Но\", \"CCONJ\"),\n",
        "(\"за\", \"ADP\"),\n",
        "(\"это\", \"PRON\"),\n",
        "(\"им\", \"PRON\"),\n",
        "(\"попало\", \"VERB\"),\n",
        "(\".\", \"PUNCT\"),\n",
        "(\"Дуло\", \"NOUN\"),\n",
        "(\"пистолета\", \"NOUN\"),\n",
        "(\".\", \"PUNCT\"),\n",
        "(\"Пни\", \"NOUN\"),\n",
        "(\"в\", \"ADP\"),\n",
        "(\"лесу\", \"NOUN\"),\n",
        "(\".\", \"PUNCT\"),\n",
        "(\"Пни\", \"VERB\"),\n",
        "(\"мяч\", \"NOUN\"),\n",
        "(\"ногой\", \"NOUN\"),\n",
        "(\".\", \"PUNCT\"),\n",
        "(\"Эта\", \"DET\"),\n",
        "(\"девчонка\", \"NOUN\"),\n",
        "(\"оказалась\", \"VERB\"),\n",
        "(\"смела\", \"ADJ\"),\n",
        "(\".\", \"PUNCT\"),\n",
        "(\"Она\", \"PRON\"),\n",
        "(\"смела\", \"VERB\"),\n",
        "(\"крошки\", \"NOUN\"),\n",
        "(\"со\", \"ADP\"),\n",
        "(\"стола\", \"NOUN\"),\n",
        "(\".\", \"PUNCT\"),\n",
        "(\"Ехали\", \"VERB\"),\n",
        "(\"полем\", \"NOUN\"),\n",
        "(\".\", \"PUNCT\"),\n",
        "(\"Мы\", \"PRON\"),\n",
        "(\"полем\", \"VERB\"),\n",
        "(\"сорняки\", \"VERB\"),\n",
        "(\".\", \"PUNCT\"),\n",
        "(\"Простой\", \"ADJ\"),\n",
        "(\"пример\", \"NOUN\"),\n",
        "(\".\", \"PUNCT\"),\n",
        "(\"Простой\", \"NOUN\"),\n",
        "(\"оборудования\", \"NOUN\"),\n",
        "(\".\", \"PUNCT\"),\n",
        "(\"Королевская\", \"ADJ\"),\n",
        "(\"знать\", \"NOUN\"),\n",
        "(\".\", \"PUNCT\"),\n",
        "(\"Знать\", \"VERB\"),\n",
        "(\"его\", \"PRON\"),\n",
        "(\"в\", \"ADP\"),\n",
        "(\"лицо\", \"NOUN\"),\n",
        "(\".\", \"PUNCT\"),\n",
        "(\"Голубей\", \"NOUN\"),\n",
        "(\"было\", \"AUX\"),\n",
        "(\"много\", \"ADV\"),\n",
        "(\".\", \"PUNCT\"),\n",
        "(\"Небо\", \"NOUN\"),\n",
        "(\"было\", \"AUX\"),\n",
        "(\"голубей\", \"ADJ\"),\n",
        "(\",\", \"PUNCT\"),\n",
        "(\"чем\", \"SCONJ\"),\n",
        "(\"вчера\", \"ADV\"),\n",
        "(\".\", \"PUNCT\"),\n",
        "(\"Дальние\", \"ADJ\"),\n",
        "(\"дали\", \"NOUN\"),\n",
        "(\".\", \"PUNCT\"),\n",
        "(\"Ему\", \"PRON\"),\n",
        "(\"дали\", \"VERB\"),\n",
        "(\"второй\", \"ADJ\"),\n",
        "(\"шанс\", \"NOUN\"),\n",
        "(\".\", \"PUNCT\"),\n",
        "(\"Три\", \"NUM\"),\n",
        "(\"поросенка\", \"NOUN\"),\n",
        "(\".\", \"PUNCT\"),\n",
        "(\"Три\", \"VERB\"),\n",
        "(\"сильнее\", \"ADJ\"),\n",
        "(\"пятно\", \"NOUN\"),\n",
        "(\".\", \"PUNCT\"),\n",
        "(\"Рой\", \"NOUN\"),\n",
        "(\"пчел\", \"NOUN\"),\n",
        "(\".\", \"PUNCT\"),\n",
        "(\"Не\", \"PART\"),\n",
        "(\"рой\", \"VERB\"),\n",
        "(\"яму\", \"NOUN\"),\n",
        "(\"другому\", \"ADJ\"),\n",
        "(\".\", \"PUNCT\"),\n",
        "(\"Это\", \"PRON\"),\n",
        "(\"мой\", \"DET\"),\n",
        "(\"дом\", \"NOUN\"),\n",
        "(\".\", \"PUNCT\"),\n",
        "(\"Мой\", \"VERB\"),\n",
        "(\"фрукты\", \"NOUN\"),\n",
        "(\".\", \"PUNCT\"),\n",
        "(\"Тупая\", \"ADJ\"),\n",
        "(\"пила\", \"NOUN\"),\n",
        "(\".\", \"PUNCT\"),\n",
        "(\"Пила\", \"VERB\"),\n",
        "(\"морс\", \"NOUN\"),\n",
        "(\".\", \"PUNCT\"),\n",
        "(\"Спиленные\", \"ADJ\"),\n",
        "(\"пни\", \"NOUN\"),\n",
        "(\".\", \"PUNCT\"),\n",
        "(\"Пни\", \"VERB\"),\n",
        "(\"дверь\", \"NOUN\"),\n",
        "(\"ногой\", \"NOUN\"),\n",
        "(\".\", \"PUNCT\"),\n",
        "(\"Она\", \"PRON\"),\n",
        "(\"очень\", \"ADV\"),\n",
        "(\"смела\", \"ADJ\"),\n",
        "(\".\", \"PUNCT\"),\n",
        "(\"Смела\", \"VERB\"),\n",
        "(\"всю\", \"DET\"),\n",
        "(\"грязь\", \"NOUN\"),\n",
        "(\"с\", \"ADP\"),\n",
        "(\"порога\", \"NOUN\"),\n",
        "(\".\", \"PUNCT\"),\n",
        "(\"Простой\", \"ADJ\"),\n",
        "(\"мужчина\", \"NOUN\"),\n",
        "(\".\", \"PUNCT\"),\n",
        "(\"Простой\", \"NOUN\"),\n",
        "(\"дорогого\", \"ADJ\"),\n",
        "(\"оборудования\", \"NOUN\"),\n",
        "(\".\", \"PUNCT\")\n",
        "]"
      ],
      "metadata": {
        "id": "pq6b7MDbW3DV"
      },
      "execution_count": null,
      "outputs": []
    },
    {
      "cell_type": "markdown",
      "source": [
        "# Задание 2\n"
      ],
      "metadata": {
        "id": "SRLMyizss6QK"
      }
    },
    {
      "cell_type": "markdown",
      "source": [
        "## Первый теггер: natasha"
      ],
      "metadata": {
        "id": "w9l7Cvv5bQDo"
      }
    },
    {
      "cell_type": "markdown",
      "source": [
        "Далее я взяла Natasha. В массиве Natasha_tagged_text хранятся элементы вида слово - часть речи. \n"
      ],
      "metadata": {
        "id": "cKObvpCa0LxY"
      }
    },
    {
      "cell_type": "code",
      "source": [
        "!pip install natasha --quiet"
      ],
      "metadata": {
        "id": "FB_aaoe9WoaY"
      },
      "execution_count": null,
      "outputs": []
    },
    {
      "cell_type": "code",
      "source": [
        "from natasha import (\n",
        "    Segmenter,\n",
        "    MorphVocab,\n",
        "    NamesExtractor,\n",
        "    Doc,\n",
        "    PER,\n",
        "\n",
        "    NewsEmbedding,\n",
        "    NewsMorphTagger,\n",
        "    NewsSyntaxParser,\n",
        "    NewsNERTagger)"
      ],
      "metadata": {
        "id": "ZmUKKp3IWmXx"
      },
      "execution_count": null,
      "outputs": []
    },
    {
      "cell_type": "code",
      "source": [
        "emb = NewsEmbedding()\n",
        "segmenter = Segmenter()\n",
        "morph_tagger = NewsMorphTagger(emb)\n",
        "doc = Doc(text)\n",
        "\n",
        "doc.segment(segmenter)\n",
        "print(doc.tokens[:5])\n",
        "doc.tag_morph(morph_tagger)\n",
        "print(doc.tokens[:5])"
      ],
      "metadata": {
        "id": "RiDt5xeY6qmM",
        "outputId": "06cb5733-3647-4d57-8411-be375b083f83",
        "colab": {
          "base_uri": "https://localhost:8080/"
        }
      },
      "execution_count": null,
      "outputs": [
        {
          "output_type": "stream",
          "name": "stdout",
          "text": [
            "[DocToken(start=1, stop=10, text='Прекрасен'), DocToken(start=11, stop=21, text='пушкинский'), DocToken(start=22, stop=26, text='стих'), DocToken(start=26, stop=27, text='.'), DocToken(start=29, stop=34, text='Ветер')]\n",
            "[DocToken(start=1, stop=10, text='Прекрасен', pos='ADJ', feats=<Nom,Pos,Masc,Sing>), DocToken(start=11, stop=21, text='пушкинский', pos='ADJ', feats=<Nom,Pos,Masc,Sing>), DocToken(start=22, stop=26, text='стих', pos='NOUN', feats=<Inan,Nom,Masc,Sing>), DocToken(start=26, stop=27, text='.', pos='PUNCT'), DocToken(start=29, stop=34, text='Ветер', pos='NOUN', feats=<Inan,Nom,Masc,Sing>)]\n"
          ]
        }
      ]
    },
    {
      "cell_type": "code",
      "source": [
        "natasha_tagged_text = []\n",
        "\n",
        "for token in doc.tokens:\n",
        "   natasha_tagged_text.append( (token.text, token.pos) )\n",
        "natasha_tagged_text[:3]"
      ],
      "metadata": {
        "colab": {
          "base_uri": "https://localhost:8080/"
        },
        "id": "P39rc03kbSzg",
        "outputId": "f7d33c4c-173d-4c1e-e67a-55f3683d8b3f"
      },
      "execution_count": null,
      "outputs": [
        {
          "output_type": "execute_result",
          "data": {
            "text/plain": [
              "[('Прекрасен', 'ADJ'), ('пушкинский', 'ADJ'), ('стих', 'NOUN')]"
            ]
          },
          "metadata": {},
          "execution_count": 37
        }
      ]
    },
    {
      "cell_type": "markdown",
      "source": [
        "## Второй теггер: pymorphy2"
      ],
      "metadata": {
        "id": "-BV3Nz_Zbmp-"
      }
    },
    {
      "cell_type": "markdown",
      "source": [
        "\n",
        "Результат разметки хранился в таком же массиве, как у Наташи и золотого стандарта."
      ],
      "metadata": {
        "id": "b1IAWLmh0OXy"
      }
    },
    {
      "cell_type": "code",
      "source": [
        "import pymorphy2, nltk\n",
        "from natasha.morph.vocab import PymorphyAnalyzer\n",
        "nltk.download('punkt')"
      ],
      "metadata": {
        "colab": {
          "base_uri": "https://localhost:8080/"
        },
        "id": "fE0kcdG0dnhB",
        "outputId": "aac0255f-0db7-4404-acbb-beb0956e3fc8"
      },
      "execution_count": null,
      "outputs": [
        {
          "output_type": "stream",
          "name": "stderr",
          "text": [
            "[nltk_data] Downloading package punkt to /root/nltk_data...\n",
            "[nltk_data]   Package punkt is already up-to-date!\n"
          ]
        },
        {
          "output_type": "execute_result",
          "data": {
            "text/plain": [
              "True"
            ]
          },
          "metadata": {},
          "execution_count": 38
        }
      ]
    },
    {
      "cell_type": "code",
      "source": [
        "pymorphy_tagged_text = []\n",
        "\n",
        "m = pymorphy2.MorphAnalyzer()\n",
        "for word in nltk.word_tokenize(text):\n",
        "    tag = str(m.parse(word)[0].tag).split(',')[0].split(' ')[0]\n",
        "    pymorphy_tagged_text.append( (word, tag) )\n",
        "pymorphy_tagged_text[:3]"
      ],
      "metadata": {
        "colab": {
          "base_uri": "https://localhost:8080/"
        },
        "id": "UuRBuEnjbqbQ",
        "outputId": "4bab438d-7ff1-442a-96f5-1b12e8048a59"
      },
      "execution_count": null,
      "outputs": [
        {
          "output_type": "execute_result",
          "data": {
            "text/plain": [
              "[('Прекрасен', 'ADJS'), ('пушкинский', 'ADJF'), ('стих', 'VERB')]"
            ]
          },
          "metadata": {},
          "execution_count": 39
        }
      ]
    },
    {
      "cell_type": "markdown",
      "source": [
        "## Третий теггер: spacy\n"
      ],
      "metadata": {
        "id": "_kjFnhPqkTKn"
      }
    },
    {
      "cell_type": "code",
      "source": [
        "!pip install spacy --quiet\n",
        "!python -m spacy download ru_core_news_sm --quiet\n",
        "import spacy"
      ],
      "metadata": {
        "colab": {
          "base_uri": "https://localhost:8080/"
        },
        "id": "jMphFuExnkg0",
        "outputId": "b0531e7a-0efd-4ab8-a1f5-26ed68faf814"
      },
      "execution_count": null,
      "outputs": [
        {
          "output_type": "stream",
          "name": "stdout",
          "text": [
            "2022-10-11 20:05:15.603552: E tensorflow/stream_executor/cuda/cuda_driver.cc:271] failed call to cuInit: CUDA_ERROR_NO_DEVICE: no CUDA-capable device is detected\n",
            "\u001b[K     |████████████████████████████████| 15.3 MB 1.3 MB/s \n",
            "\u001b[K     |████████████████████████████████| 55 kB 2.6 MB/s \n",
            "\u001b[K     |████████████████████████████████| 8.2 MB 16.2 MB/s \n",
            "\u001b[?25h  Building wheel for docopt (setup.py) ... \u001b[?25l\u001b[?25hdone\n",
            "\u001b[38;5;2m✔ Download and installation successful\u001b[0m\n",
            "You can now load the package via spacy.load('ru_core_news_sm')\n"
          ]
        }
      ]
    },
    {
      "cell_type": "code",
      "source": [
        "nlp = spacy.load(\"ru_core_news_sm\")\n",
        "doc = nlp(text)\n",
        "spacy_tagged_text = []\n",
        "\n",
        "for token in doc:\n",
        "    if token.text not in ['\\n', '-']:\n",
        "      spacy_tagged_text.append( (token.text, token.pos_))\n",
        "    \n",
        "spacy_tagged_text[:3]"
      ],
      "metadata": {
        "colab": {
          "base_uri": "https://localhost:8080/"
        },
        "id": "9YMZ2AaWn5m8",
        "outputId": "1832673a-3f83-4592-acf2-23dffa46ba45"
      },
      "execution_count": null,
      "outputs": [
        {
          "output_type": "execute_result",
          "data": {
            "text/plain": [
              "[('Прекрасен', 'PROPN'), ('пушкинский', 'ADJ'), ('стих', 'NOUN')]"
            ]
          },
          "metadata": {},
          "execution_count": 41
        }
      ]
    },
    {
      "cell_type": "markdown",
      "source": [
        "# Задание 3"
      ],
      "metadata": {
        "id": "EWXwgxxBtEHr"
      }
    },
    {
      "cell_type": "markdown",
      "source": [
        "обозначения для граммем:\n",
        "\n",
        "1) pymorphy2 \n",
        "https://pymorphy2.readthedocs.io/en/stable/user/grammemes.html\n",
        "\n",
        "2) spacy\n",
        "https://legkovopros.ru/questions/78439/chto-oznachajut-tegi-chasti-rechi-i-zavisimosti-spacy?ysclid=l91lc1lssi310239271\n",
        "\n",
        "3) natasha https://universaldependencies.org/u/pos/"
      ],
      "metadata": {
        "id": "nzoKt7ABu3H0"
      }
    },
    {
      "cell_type": "code",
      "source": [
        "translator = {\n",
        "    'ADJF': 'ADJ',\n",
        "    'ADJS': 'ADJ',\n",
        "\n",
        "    'ADVB': 'ADV',\n",
        "    'COMP': 'ADV',\n",
        "\n",
        "    'VERB': 'VERB',\n",
        "    'GRND': 'VERB',\n",
        "    'INFN': 'VERB',\n",
        "    'PRTF': 'VERB',\n",
        "    'PRTS': 'VERB',\n",
        "    'AUX': 'VERB',\n",
        "\n",
        "    'NOUN': 'NOUN',\n",
        "    'NPRO': 'PRON',\n",
        "    'PROPN': 'PRON',\n",
        "\n",
        "    'NUMR': 'NUM',\n",
        "    'NUMB': 'NUM',\n",
        "\n",
        "    'Apro': 'DET',\n",
        "    'CONJ': 'CCONJ',\n",
        "    'SCONJ': 'CCONJ',\n",
        "    'ADP': 'CCONJ',\n",
        "    'INTJ': 'INTJ',\n",
        "    'PART': 'PRCL',\n",
        "    'PNCT': 'PUNCT',\n",
        "    'PRCL': 'PART',\n",
        "    'PREP': 'ADP',\n",
        "}"
      ],
      "metadata": {
        "id": "2bWwCa6rvII8"
      },
      "execution_count": null,
      "outputs": []
    },
    {
      "cell_type": "code",
      "source": [
        "from sklearn.metrics import accuracy_score"
      ],
      "metadata": {
        "id": "SoqQzqDgzVqC"
      },
      "execution_count": null,
      "outputs": []
    },
    {
      "cell_type": "code",
      "source": [
        "def accuracy(true_tagged_text, predicted_tagged_text):\n",
        "  true_tags = [translator.get(tag, tag) for (word, tag) in true_tagged_text]\n",
        "  predicted_tags = [translator.get(tag, tag) for (word, tag) in predicted_tagged_text]\n",
        "  return accuracy_score(true_tags, predicted_tags)"
      ],
      "metadata": {
        "id": "qJbZrxzU560_"
      },
      "execution_count": null,
      "outputs": []
    },
    {
      "cell_type": "markdown",
      "source": [
        "я делала здесь len, потому что проверяла количество тегов, чтобы в accuracy score должно быть одинаковое количество тегов "
      ],
      "metadata": {
        "id": "G42uWzY4Dv08"
      }
    },
    {
      "cell_type": "code",
      "source": [
        "print(len(true_tagged_text))\n",
        "print(len(natasha_tagged_text))\n",
        "print(len(spacy_tagged_text))\n",
        "print(len(pymorphy_tagged_text))"
      ],
      "metadata": {
        "colab": {
          "base_uri": "https://localhost:8080/"
        },
        "id": "1ncbqeOQ_7Y4",
        "outputId": "dee056b9-9b8f-4a31-9fbf-c9a2609da357"
      },
      "execution_count": null,
      "outputs": [
        {
          "output_type": "stream",
          "name": "stdout",
          "text": [
            "285\n",
            "285\n",
            "285\n",
            "285\n"
          ]
        }
      ]
    },
    {
      "cell_type": "code",
      "source": [
        "print(\" Natasha: %.4f\" % accuracy(true_tagged_text, natasha_tagged_text))\n",
        "print(\"   Spacy: %.4f\" % accuracy(true_tagged_text, spacy_tagged_text))\n",
        "print(\"Pymorphy: %.4f\" % accuracy(true_tagged_text, pymorphy_tagged_text))"
      ],
      "metadata": {
        "id": "LPOFcntr4Zst",
        "colab": {
          "base_uri": "https://localhost:8080/"
        },
        "outputId": "39913407-464c-4fdb-ee3a-bffff72a4cea"
      },
      "execution_count": null,
      "outputs": [
        {
          "output_type": "stream",
          "name": "stdout",
          "text": [
            " Natasha: 0.8772\n",
            "   Spacy: 0.8596\n",
            "Pymorphy: 0.7123\n"
          ]
        }
      ]
    },
    {
      "cell_type": "markdown",
      "source": [
        "итог: наташа на наших тектах с омонимией работает лучше остальных"
      ],
      "metadata": {
        "id": "FdWEZsA1EQmN"
      }
    },
    {
      "cell_type": "markdown",
      "source": [
        "# Задание 4"
      ],
      "metadata": {
        "id": "L411ZKIaULDK"
      }
    },
    {
      "cell_type": "markdown",
      "source": [
        "Если у нас есть прилагательное well, которое встречается в +ных отзывах, то, логично, что not + well будет встречаться наоборот в -ных отзывах:\n",
        "\n",
        "Шаблоны для негативных:\n",
        "\n",
        "1) \n",
        "not + ADJ\n",
        "\n",
        "шаблон для позитивных:\n",
        "\n",
        "2)\n",
        "perfect + ADJ\n",
        "\n",
        "3) \n",
        "absolutely + ADJ\n",
        "\n",
        "Такие шаблоны выбраны, потому что сложнее (такие есть, например, not bad, но их меньше) представить ситуацию, когда к негативному прилагательному добавляют not, чтобы оно стало позитивным, это, кажется, работает только в другую сторону. С английским языком сложнее, это правило работает скорее для русского.\n",
        " \n",
        "Наречие + прилагательное с большей вероятностью встретится в +, потому что человек скорее напишет что-то вроде pretty + good; perfectly + balanced, нежели pretty bad; perfectly terrible (спорно, конечно, но имеет место на существование).\n",
        "\n",
        "Аналогично с глаголами.\n",
        "\n",
        "Так как в прошлой домашней работе я использовала английский язык (а для него Spacy работает лучше, чем Natasha), то я возьму Spacy.\n",
        "\n"
      ],
      "metadata": {
        "id": "YbzPSFGdoMRY"
      }
    },
    {
      "cell_type": "markdown",
      "source": [
        "Вообще я подумала, что такой простой чанкер не очень хорош, нужно делать более сложные правила:\n",
        "Для отзыва \"я люблю музыкальное оформление фильма\" правило: если сказуемое (\"люблю\") входит в положительный набор глаголов (\"люблю\", \"обожаю\", \"одобряю\" ...) И в предложении не имеется отрицаний, то классифицировать тональность как \"положительная\". \n",
        "Более того, для разных категорий отзывов (на фильмы, рестораны, отели, игрушки) будут разные правила.\n",
        "\n",
        "Я задумалась и поняла, что все сложнее чем кажется и не стоит брать шаблоны вида не + глагол, потому что в зависимости от текста и его специфики у нас будет отличаться позитивность и негативность: где-то не + глагол это + отзыв, где-то наоборот.\n",
        "Наверно нужно смотреть не на шаблон вида (не + глагол), а скорее на всю группу. Для отзыва \"я люблю нового Шрека\", нужно сделать шаблон 'я люблю' + 'люблю нового' + 'нового Шрека', \n",
        "VERB\n",
        "VERB + ADJ\n",
        "VERB + NOUN\n",
        "\n",
        "Что касается наших отзывов, то возможны следующие шаблоны\n",
        "  \n",
        "'Perfect' + NOUN \n",
        " \n",
        "Examples from my corpus:\n",
        "1.\tPerfect movie\n",
        "2.\tPerfect fairytale comedy\n",
        "3.\tPerfect ending\n",
        "4.\tPerfect film\n",
        " \n",
        "В негативных ‘perfect’ + прил или сущ не встречается\n",
        " \n",
        "2-3)\n",
        "'Absolutely' + ADJ\n",
        "'Absolutely' + PRON\n",
        " \n",
        "Examples from my corpus:\n",
        "1.\tAbsolutely amazing\n",
        "2.\tAbsolutely adorable\n",
        "3.\tAbsolutely nothing to complain about\n",
        "\n"
      ],
      "metadata": {
        "id": "zQUrZ9OhwikN"
      }
    },
    {
      "cell_type": "code",
      "source": [
        "nlp = spacy.load('en_core_web_sm')\n",
        "doc = nlp(text)"
      ],
      "metadata": {
        "id": "NxscI_9woMqm"
      },
      "execution_count": null,
      "outputs": []
    },
    {
      "cell_type": "code",
      "source": [
        "\n",
        "# Предложение в формате --> [('word', 'tag'), ('word', 'tag'), ...]\n",
        "def chunking(sentence):\n",
        "  chunked_sentence = []\n",
        "  current_chunk = []\n",
        "\n",
        "  for word, tag in sentence: \n",
        "    if word in ['not', 'perfect', 'absolutely']:\n",
        "      current_chunk.append(word)\n",
        "    elif len(current_chunk) > 0:\n",
        "      if tag == 'ADJ':\n",
        "        current_chunk.append(word)\n",
        "        chunked_sentence.append(current_chunk)\n",
        "        current_chunk = []\n",
        "        continue\n",
        "    chunked_sentence.append(word)\n",
        "    \n",
        "  return chunked_sentence\n"
      ],
      "metadata": {
        "id": "AwOADmL_q-2Z"
      },
      "execution_count": null,
      "outputs": []
    },
    {
      "cell_type": "code",
      "source": [
        "sentence = \"It is not bad movie\"\n",
        "doc = nlp(sentence)\n",
        "\n",
        "tagged_sentence = []\n",
        "for token in doc:\n",
        "  tagged_sentence.append( (token.text, translator.get(token.pos_, token.pos_)) )\n",
        "\n",
        "chunking(tagged_sentence)"
      ],
      "metadata": {
        "colab": {
          "base_uri": "https://localhost:8080/"
        },
        "id": "wQGrEkEgthgf",
        "outputId": "1d4f4010-4591-45b9-ab37-fcf8b7c5d1c0"
      },
      "execution_count": null,
      "outputs": [
        {
          "output_type": "execute_result",
          "data": {
            "text/plain": [
              "['It', 'is', 'not', ['not', 'bad'], 'movie']"
            ]
          },
          "metadata": {},
          "execution_count": 34
        }
      ]
    },
    {
      "cell_type": "code",
      "source": [],
      "metadata": {
        "id": "z0VfDVPqzvDR"
      },
      "execution_count": null,
      "outputs": []
    }
  ]
}